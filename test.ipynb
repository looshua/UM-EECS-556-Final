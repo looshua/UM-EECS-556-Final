{
 "cells": [
  {
   "cell_type": "code",
   "execution_count": 3,
   "metadata": {},
   "outputs": [],
   "source": [
    "import L3RM.L3RM\n",
    "from L3RM.utils import *"
   ]
  },
  {
   "cell_type": "code",
   "execution_count": 4,
   "metadata": {},
   "outputs": [
    {
     "name": "stdout",
     "output_type": "stream",
     "text": [
      "[[-1.  1.  0.]\n",
      " [ 0. -1.  1.]\n",
      " [ 0.  0. -1.]]\n",
      "[[-1.  0.  0.]\n",
      " [ 1. -1.  0.]\n",
      " [ 0.  1. -1.]]\n"
     ]
    }
   ],
   "source": [
    "d1 = first_order_derivative_filter(3,1)\n",
    "d2 = first_order_derivative_filter(3,-1)\n",
    "\n",
    "print(d1)\n",
    "print(d2)"
   ]
  },
  {
   "cell_type": "code",
   "execution_count": 8,
   "metadata": {},
   "outputs": [
    {
     "name": "stdout",
     "output_type": "stream",
     "text": [
      "[[ 1. -1.  0.]\n",
      " [-1.  2. -1.]\n",
      " [ 0. -1.  2.]]\n",
      "[[ 2. -1.  0.]\n",
      " [-1.  2. -1.]\n",
      " [ 0. -1.  1.]]\n"
     ]
    }
   ],
   "source": [
    "print(d1.T @ d1)\n",
    "print(d2.T @ d2)"
   ]
  },
  {
   "cell_type": "code",
   "execution_count": 9,
   "metadata": {},
   "outputs": [
    {
     "name": "stdout",
     "output_type": "stream",
     "text": [
      "[[ 3. -2.  0.]\n",
      " [-2.  4. -2.]\n",
      " [ 0. -2.  3.]]\n"
     ]
    }
   ],
   "source": [
    "print(d1.T @ d1 + d2.T @ d2)"
   ]
  },
  {
   "cell_type": "code",
   "execution_count": 16,
   "metadata": {},
   "outputs": [
    {
     "name": "stdout",
     "output_type": "stream",
     "text": [
      "[[-0.73536141  0.79241418 -0.57288897]\n",
      " [-0.485019    1.36101778  0.69426766]\n",
      " [-1.80637019  1.19442553  0.9154067 ]]\n",
      "[[-1.  0.  0.  1.  0.  0.  0.  0.  0.]\n",
      " [ 0. -1.  0.  0.  1.  0.  0.  0.  0.]\n",
      " [ 0.  0. -1.  0.  0.  1.  0.  0.  0.]\n",
      " [ 0.  0.  0. -1.  0.  0.  1.  0.  0.]\n",
      " [ 0.  0.  0.  0. -1.  0.  0.  1.  0.]\n",
      " [ 0.  0.  0.  0.  0. -1.  0.  0.  1.]\n",
      " [ 0.  0.  0.  0.  0.  0. -1.  0.  0.]\n",
      " [ 0.  0.  0.  0.  0.  0.  0. -1.  0.]\n",
      " [ 0.  0.  0.  0.  0.  0.  0.  0. -1.]]\n"
     ]
    }
   ],
   "source": [
    "tm = np.random.randn(3,3)\n",
    "tvec = np.reshape(tm,-1)\n",
    "print(tm)\n",
    "\n",
    "D1 = first_order_derivative_filter(9,3)\n",
    "print(D1)"
   ]
  },
  {
   "cell_type": "code",
   "execution_count": 17,
   "metadata": {},
   "outputs": [
    {
     "name": "stdout",
     "output_type": "stream",
     "text": [
      "[[ 0.2503424   0.5686036   1.26715664]\n",
      " [-1.32135119 -0.16659225  0.22113903]\n",
      " [ 1.80637019 -1.19442553 -0.9154067 ]]\n",
      "[[ 0.2503424   0.5686036   1.26715664]\n",
      " [-1.32135119 -0.16659225  0.22113903]\n",
      " [ 1.80637019 -1.19442553 -0.9154067 ]]\n"
     ]
    }
   ],
   "source": [
    "print(d1 @ tm)\n",
    "print(np.reshape(D1 @ tvec, (3,3)))"
   ]
  },
  {
   "cell_type": "code",
   "execution_count": null,
   "metadata": {},
   "outputs": [],
   "source": []
  }
 ],
 "metadata": {
  "kernelspec": {
   "display_name": "eecs556",
   "language": "python",
   "name": "python3"
  },
  "language_info": {
   "codemirror_mode": {
    "name": "ipython",
    "version": 3
   },
   "file_extension": ".py",
   "mimetype": "text/x-python",
   "name": "python",
   "nbconvert_exporter": "python",
   "pygments_lexer": "ipython3",
   "version": "3.12.6"
  }
 },
 "nbformat": 4,
 "nbformat_minor": 2
}
